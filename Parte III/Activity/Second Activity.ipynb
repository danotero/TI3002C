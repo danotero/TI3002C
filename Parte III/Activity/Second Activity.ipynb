{
 "cells": [
  {
   "cell_type": "markdown",
   "id": "92976955",
   "metadata": {},
   "source": [
    "# Second Activity\n",
    "\n",
    "In this activity you will use several hypothesis tests to draw some conclusions from the `diabetes dataset`. The libraries you will need for this activity are imported in the following cell."
   ]
  },
  {
   "cell_type": "code",
   "execution_count": null,
   "id": "9ddaf28c",
   "metadata": {},
   "outputs": [],
   "source": [
    "import pandas as pd\n",
    "import numpy as np\n",
    "import scipy.stats as st"
   ]
  },
  {
   "cell_type": "markdown",
   "id": "6f647b95",
   "metadata": {},
   "source": [
    "Now we import the data."
   ]
  },
  {
   "cell_type": "code",
   "execution_count": null,
   "id": "52f711c0",
   "metadata": {},
   "outputs": [],
   "source": [
    "data = pd.read_csv('diabetes-dataset.csv')\n",
    "data.head()"
   ]
  },
  {
   "cell_type": "markdown",
   "id": "d71169b3",
   "metadata": {},
   "source": [
    "## Difference of Population Means\n",
    "\n",
    "In the `diabetes dataset`, there are two populations: the people who have diabetes and the people who do not have diabetes. One way to see if there is a significant difference between these two populations is to compute the means of, say, `Insulin` for both populations and check if the difference between these two means is statistically significant. Let us do this for each variable in the data set."
   ]
  },
  {
   "cell_type": "code",
   "execution_count": null,
   "id": "76f4d2ee",
   "metadata": {},
   "outputs": [],
   "source": [
    "sample_means = data.groupby('Outcome').mean()\n",
    "sample_means"
   ]
  },
  {
   "cell_type": "markdown",
   "id": "69aa47fb",
   "metadata": {},
   "source": [
    "It is clear that the means of each variable are generally different for these two populations. For example, the mean of `Glucose` for people with diabetes is about 141.6, while for people without diabetes is about 110.6, so there is a considerable gap between these two quantities, but is it significant? To answer this, we need to perform a hypothesis test like this one:\n",
    "\n",
    "$$H_0: \\mu_0-\\mu_1\\leq0$$\n",
    "$$H_a: \\mu_0-\\mu_1\\neq0$$\n",
    "\n",
    "Here, for a given variable, say `Age`, $\\mu_0$ and $\\mu_1$ are the population means of people without diabetes and people with diabetes, respectively.\n",
    "\n",
    "In the following cell you will write a function that checks whether the difference between the means is significant for each variable and returns a list with the variables for which this difference was relevant. Of course, you will have to do this with the hypothesis test for the difference of means. "
   ]
  },
  {
   "cell_type": "code",
   "execution_count": null,
   "id": "1e772155",
   "metadata": {},
   "outputs": [],
   "source": [
    "def significant_difference(df, alpha=0.05):\n",
    "    \n",
    "    \"\"\"\n",
    "    This function receives a dataframe df and a significance level alpha. The function\n",
    "    performs a two-tail hypothesis test for the difference of population means and returns\n",
    "    a list with the variables for which said difference was relevant.\n",
    "    \"\"\"\n",
    "    \n",
    "    relevant = []\n",
    "            \n",
    "    \"INSERT YOUR CODE HERE\"\n",
    "    \n",
    "    return relevant        "
   ]
  },
  {
   "cell_type": "code",
   "execution_count": null,
   "id": "fbaa74a4",
   "metadata": {},
   "outputs": [],
   "source": [
    "significant_variables = significant_difference(data)\n",
    "significant_variables"
   ]
  },
  {
   "cell_type": "markdown",
   "id": "954e5c36",
   "metadata": {},
   "source": [
    "Now run your function with a significance level equal to $\\alpha=0.001$. Do you obtain the same list of variables?"
   ]
  },
  {
   "cell_type": "code",
   "execution_count": null,
   "id": "3bf18e58",
   "metadata": {},
   "outputs": [],
   "source": [
    "significant_variables_1 = significant_difference(data, 0.001)\n",
    "significant_variables_1"
   ]
  },
  {
   "cell_type": "markdown",
   "id": "d9af64ee",
   "metadata": {},
   "source": [
    "## Independence of Two Variables\n",
    "\n",
    "We can use hypothesis testing to test whether two variables are independent. We will assume that our variable of interest is once again `Outcome`, so we want to know if there are any variables that do not affect the behavior of `Outcome`. Say we are considering the variable BMI, then the hypothesis test to be employed is the following:\n",
    "\n",
    "$$H_0: \\text{BMI and Outcome are independent}$$\n",
    "$$H_a: \\text{BMI and Outcome are not independent}$$\n",
    " \n",
    "However, `BMI` is a continuous variable, and the independence test is valid for categorical variables, so if we want to use this test, we need to discretize the variable `BMI`. We will do this using quantiles: if a variable value is less than Q1, then that value is replaced by a **zero**; if the given value is greater than or equal to Q1 but less than Q2, then the value should be replaced by a **one**; if the variable value is greater than or equal to Q2 but less than Q3, then the value should be replaced by a **two**; finally, if a variable value is greater than Q3, it should be assigned a value of **three**.\n",
    "\n",
    "The following function discretizes the diabetes data set by performing the previous procedure. Simply run it and work with the discrete data set stored in data_discrete."
   ]
  },
  {
   "cell_type": "code",
   "execution_count": null,
   "id": "8d91bbb9",
   "metadata": {},
   "outputs": [],
   "source": [
    "def discretize(df1):\n",
    "    \n",
    "    \"\"\"\n",
    "    This function discretize the continuous variables of the diabetes dataset using quantiles.\n",
    "    You are not to modify it.\n",
    "    \"\"\"\n",
    "    \n",
    "    df = df1.copy()\n",
    "    \n",
    "    for column in df1.columns:\n",
    "        if column != 'Outcome':\n",
    "            statistics = df1.loc[df1[column] > 0, column].describe()\n",
    "            q1 = statistics['25%']\n",
    "            q2 = statistics['50%']\n",
    "            q3 = statistics['75%']        \n",
    "            df.loc[df1[column] < q1, column] = 0\n",
    "            df.loc[(df1[column] >= q1) & (df1[column] < q2), column] = 1\n",
    "            df.loc[(df1[column] >= q2) & (df1[column] < q3), column] = 2\n",
    "            df.loc[df1[column] >= q3, column] = 3\n",
    "    \n",
    "    df = df.astype({'BMI': 'int32', 'DiabetesPedigreeFunction': 'int32'})\n",
    "    \n",
    "    return df  "
   ]
  },
  {
   "cell_type": "code",
   "execution_count": null,
   "id": "43b9c495",
   "metadata": {
    "scrolled": true
   },
   "outputs": [],
   "source": [
    "data_discrete = discretize(data)\n",
    "data_discrete.head()"
   ]
  },
  {
   "cell_type": "markdown",
   "id": "93f33de4",
   "metadata": {},
   "source": [
    "In the following cell, you will write a function that checks whether a given variable and the variable `Outcome` are independent. The function must do this for each variable and return a list containing the variables that are not independent of `Outcome`. As expected, you will need to do this with the hypothesis test for independence of two variables."
   ]
  },
  {
   "cell_type": "code",
   "execution_count": null,
   "id": "626a54be",
   "metadata": {},
   "outputs": [],
   "source": [
    "def dependence_test(df, alpha=0.05):\n",
    "    \n",
    "    \"\"\"\n",
    "    This function receives a dataframe df and a significance level alpha. The function\n",
    "    performs a hypothesis test for the independence of two variables and returns\n",
    "    a list with the variables that are not independent of the target variable Outcome.\n",
    "    \"\"\"\n",
    "    \n",
    "    dependent = []\n",
    "            \n",
    "    \"INSERT YOUR CODE HERE\"\n",
    "            \n",
    "    return dependent   "
   ]
  },
  {
   "cell_type": "markdown",
   "id": "b98f8903",
   "metadata": {},
   "source": [
    "Run your function and use a significance level of $\\alpha=0.01$. Is there any variable that is independent of `Outcome`?"
   ]
  },
  {
   "cell_type": "code",
   "execution_count": null,
   "id": "d390bfcf",
   "metadata": {
    "scrolled": false
   },
   "outputs": [],
   "source": [
    "dependent_variables = dependence_test(data, 0.01)\n",
    "dependent_variables"
   ]
  },
  {
   "cell_type": "markdown",
   "id": "dcaadd4b",
   "metadata": {},
   "source": [
    "The list you get tells you if there is a relevant relationship between the variables in the dataset and the variable of interest `Outcome`."
   ]
  },
  {
   "cell_type": "markdown",
   "id": "4f6bc35d",
   "metadata": {},
   "source": [
    "## ANOVA\n",
    "\n",
    "An example of an experimental statistical study is as follows: Chemitech, Inc. developed a filtration system for municipal water supplies. The components of the filtration system were purchased from various suppliers and Chemitech assembled the filtration system at its factory in Columbia, South Carolina. The industrial engineering group is charged with determining the best method for assembling the filtration system. After considering several methods, only three alternatives remained: **Method A**, **Method B** and **Method C**. The difference between these methods was the order of the steps to assemble the system. Chemitech wants to know which method can produce the most filtration systems in a week.\n",
    "\n",
    "The data collected by Chemitech is stored in a `NumPy` array."
   ]
  },
  {
   "cell_type": "code",
   "execution_count": null,
   "id": "52a41250",
   "metadata": {},
   "outputs": [],
   "source": [
    "methods = np.array([[58, 58, 48], \n",
    "                    [64, 69, 57], \n",
    "                    [55, 71, 59], \n",
    "                    [66, 64, 47], \n",
    "                    [67, 68, 49]])\n",
    "methods"
   ]
  },
  {
   "cell_type": "markdown",
   "id": "240cdef0",
   "metadata": {},
   "source": [
    "You will carry out an **analysis of variance**, also known as **ANOVA**, on the data that was collected by Chemitech. Use the following cell to write code that will perform an ANOVA on the mentioned data. Use a significance level of $\\alpha=0.05$."
   ]
  },
  {
   "cell_type": "code",
   "execution_count": null,
   "id": "b6e2ae0b",
   "metadata": {
    "scrolled": true
   },
   "outputs": [],
   "source": [
    "alpha = 0.05\n",
    "\"INSERT YOUR CODE HERE\""
   ]
  },
  {
   "cell_type": "markdown",
   "id": "b9a8f043",
   "metadata": {},
   "source": [
    "Now you are ready to draw a conclusion. What did you get?"
   ]
  },
  {
   "cell_type": "code",
   "execution_count": null,
   "id": "29b7b815",
   "metadata": {},
   "outputs": [],
   "source": [
    "if p_value <= alpha:\n",
    "    print(\"Reject the null hypothesis (There are significant differences between groups)\")\n",
    "else:\n",
    "    print(\"Fail to reject the null hypothesis (No significant differences between groups)\")"
   ]
  }
 ],
 "metadata": {
  "kernelspec": {
   "display_name": "Python 3 (ipykernel)",
   "language": "python",
   "name": "python3"
  },
  "language_info": {
   "codemirror_mode": {
    "name": "ipython",
    "version": 3
   },
   "file_extension": ".py",
   "mimetype": "text/x-python",
   "name": "python",
   "nbconvert_exporter": "python",
   "pygments_lexer": "ipython3",
   "version": "3.11.4"
  }
 },
 "nbformat": 4,
 "nbformat_minor": 5
}
