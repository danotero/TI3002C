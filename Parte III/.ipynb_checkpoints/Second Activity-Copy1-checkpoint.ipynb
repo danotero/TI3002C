{
 "cells": [
  {
   "cell_type": "markdown",
   "id": "4c24bf2f",
   "metadata": {},
   "source": [
    "# Second Activity\n",
    "\n",
    "In this activity you will use several hypothesis tests to draw some conclusions from the `diabetes dataset`. The libraries you will need for this activity are imported in the following cell."
   ]
  },
  {
   "cell_type": "code",
   "execution_count": 1,
   "id": "9ddaf28c",
   "metadata": {},
   "outputs": [],
   "source": [
    "import pandas as pd\n",
    "import numpy as np\n",
    "import scipy.stats as st"
   ]
  },
  {
   "cell_type": "markdown",
   "id": "68240a09",
   "metadata": {},
   "source": [
    "Now we import the data."
   ]
  },
  {
   "cell_type": "code",
   "execution_count": 2,
   "id": "52f711c0",
   "metadata": {},
   "outputs": [
    {
     "data": {
      "text/html": [
       "<div>\n",
       "<style scoped>\n",
       "    .dataframe tbody tr th:only-of-type {\n",
       "        vertical-align: middle;\n",
       "    }\n",
       "\n",
       "    .dataframe tbody tr th {\n",
       "        vertical-align: top;\n",
       "    }\n",
       "\n",
       "    .dataframe thead th {\n",
       "        text-align: right;\n",
       "    }\n",
       "</style>\n",
       "<table border=\"1\" class=\"dataframe\">\n",
       "  <thead>\n",
       "    <tr style=\"text-align: right;\">\n",
       "      <th></th>\n",
       "      <th>Pregnancies</th>\n",
       "      <th>Glucose</th>\n",
       "      <th>BloodPressure</th>\n",
       "      <th>SkinThickness</th>\n",
       "      <th>Insulin</th>\n",
       "      <th>BMI</th>\n",
       "      <th>DiabetesPedigreeFunction</th>\n",
       "      <th>Age</th>\n",
       "      <th>Outcome</th>\n",
       "    </tr>\n",
       "  </thead>\n",
       "  <tbody>\n",
       "    <tr>\n",
       "      <th>0</th>\n",
       "      <td>2</td>\n",
       "      <td>138</td>\n",
       "      <td>62</td>\n",
       "      <td>35</td>\n",
       "      <td>0</td>\n",
       "      <td>33.6</td>\n",
       "      <td>0.127</td>\n",
       "      <td>47</td>\n",
       "      <td>1</td>\n",
       "    </tr>\n",
       "    <tr>\n",
       "      <th>1</th>\n",
       "      <td>0</td>\n",
       "      <td>84</td>\n",
       "      <td>82</td>\n",
       "      <td>31</td>\n",
       "      <td>125</td>\n",
       "      <td>38.2</td>\n",
       "      <td>0.233</td>\n",
       "      <td>23</td>\n",
       "      <td>0</td>\n",
       "    </tr>\n",
       "    <tr>\n",
       "      <th>2</th>\n",
       "      <td>0</td>\n",
       "      <td>145</td>\n",
       "      <td>0</td>\n",
       "      <td>0</td>\n",
       "      <td>0</td>\n",
       "      <td>44.2</td>\n",
       "      <td>0.630</td>\n",
       "      <td>31</td>\n",
       "      <td>1</td>\n",
       "    </tr>\n",
       "    <tr>\n",
       "      <th>3</th>\n",
       "      <td>0</td>\n",
       "      <td>135</td>\n",
       "      <td>68</td>\n",
       "      <td>42</td>\n",
       "      <td>250</td>\n",
       "      <td>42.3</td>\n",
       "      <td>0.365</td>\n",
       "      <td>24</td>\n",
       "      <td>1</td>\n",
       "    </tr>\n",
       "    <tr>\n",
       "      <th>4</th>\n",
       "      <td>1</td>\n",
       "      <td>139</td>\n",
       "      <td>62</td>\n",
       "      <td>41</td>\n",
       "      <td>480</td>\n",
       "      <td>40.7</td>\n",
       "      <td>0.536</td>\n",
       "      <td>21</td>\n",
       "      <td>0</td>\n",
       "    </tr>\n",
       "  </tbody>\n",
       "</table>\n",
       "</div>"
      ],
      "text/plain": [
       "   Pregnancies  Glucose  BloodPressure  SkinThickness  Insulin   BMI  \\\n",
       "0            2      138             62             35        0  33.6   \n",
       "1            0       84             82             31      125  38.2   \n",
       "2            0      145              0              0        0  44.2   \n",
       "3            0      135             68             42      250  42.3   \n",
       "4            1      139             62             41      480  40.7   \n",
       "\n",
       "   DiabetesPedigreeFunction  Age  Outcome  \n",
       "0                     0.127   47        1  \n",
       "1                     0.233   23        0  \n",
       "2                     0.630   31        1  \n",
       "3                     0.365   24        1  \n",
       "4                     0.536   21        0  "
      ]
     },
     "execution_count": 2,
     "metadata": {},
     "output_type": "execute_result"
    }
   ],
   "source": [
    "data = pd.read_csv('diabetes-dataset.csv')\n",
    "data.head()"
   ]
  },
  {
   "cell_type": "markdown",
   "id": "23e6052f",
   "metadata": {},
   "source": [
    "## Difference of Population Means\n",
    "\n",
    "In the `diabetes dataset` there are two populations: the people who have diabetes and the people who do not have diabetes. One way to see if there is a significant difference between these two populations is to compute the means of, say, `Insulin` for both populations and checking if the difference between these two means is significant from a statistical point of view. Let us do that with each variable of the dataset."
   ]
  },
  {
   "cell_type": "code",
   "execution_count": 3,
   "id": "76f4d2ee",
   "metadata": {},
   "outputs": [
    {
     "data": {
      "text/html": [
       "<div>\n",
       "<style scoped>\n",
       "    .dataframe tbody tr th:only-of-type {\n",
       "        vertical-align: middle;\n",
       "    }\n",
       "\n",
       "    .dataframe tbody tr th {\n",
       "        vertical-align: top;\n",
       "    }\n",
       "\n",
       "    .dataframe thead th {\n",
       "        text-align: right;\n",
       "    }\n",
       "</style>\n",
       "<table border=\"1\" class=\"dataframe\">\n",
       "  <thead>\n",
       "    <tr style=\"text-align: right;\">\n",
       "      <th></th>\n",
       "      <th>Pregnancies</th>\n",
       "      <th>Glucose</th>\n",
       "      <th>BloodPressure</th>\n",
       "      <th>SkinThickness</th>\n",
       "      <th>Insulin</th>\n",
       "      <th>BMI</th>\n",
       "      <th>DiabetesPedigreeFunction</th>\n",
       "      <th>Age</th>\n",
       "    </tr>\n",
       "    <tr>\n",
       "      <th>Outcome</th>\n",
       "      <th></th>\n",
       "      <th></th>\n",
       "      <th></th>\n",
       "      <th></th>\n",
       "      <th></th>\n",
       "      <th></th>\n",
       "      <th></th>\n",
       "      <th></th>\n",
       "    </tr>\n",
       "  </thead>\n",
       "  <tbody>\n",
       "    <tr>\n",
       "      <th>0</th>\n",
       "      <td>3.168693</td>\n",
       "      <td>110.586626</td>\n",
       "      <td>68.094985</td>\n",
       "      <td>20.052432</td>\n",
       "      <td>70.563830</td>\n",
       "      <td>30.567477</td>\n",
       "      <td>0.434676</td>\n",
       "      <td>31.081307</td>\n",
       "    </tr>\n",
       "    <tr>\n",
       "      <th>1</th>\n",
       "      <td>4.732456</td>\n",
       "      <td>141.568713</td>\n",
       "      <td>71.166667</td>\n",
       "      <td>22.633041</td>\n",
       "      <td>98.897661</td>\n",
       "      <td>35.320468</td>\n",
       "      <td>0.540681</td>\n",
       "      <td>36.956140</td>\n",
       "    </tr>\n",
       "  </tbody>\n",
       "</table>\n",
       "</div>"
      ],
      "text/plain": [
       "         Pregnancies     Glucose  BloodPressure  SkinThickness    Insulin  \\\n",
       "Outcome                                                                     \n",
       "0           3.168693  110.586626      68.094985      20.052432  70.563830   \n",
       "1           4.732456  141.568713      71.166667      22.633041  98.897661   \n",
       "\n",
       "               BMI  DiabetesPedigreeFunction        Age  \n",
       "Outcome                                                  \n",
       "0        30.567477                  0.434676  31.081307  \n",
       "1        35.320468                  0.540681  36.956140  "
      ]
     },
     "execution_count": 3,
     "metadata": {},
     "output_type": "execute_result"
    }
   ],
   "source": [
    "sample_means = data.groupby('Outcome').mean()\n",
    "sample_means"
   ]
  },
  {
   "cell_type": "markdown",
   "id": "7d18434c",
   "metadata": {},
   "source": [
    "It is clear that the means of each variable for these two populations differ in general. For instance, the mean of `Glucose` for people with diabetes is about 141.6, whereas for people that do not have diabetes is approximately 110.6, so there is a considerable gap between these two quantities, however, is it significant? To answer this we have to performa hypothesis test. In the following cell  "
   ]
  },
  {
   "cell_type": "code",
   "execution_count": null,
   "id": "1b806593",
   "metadata": {},
   "outputs": [],
   "source": [
    "def significant_difference(df, alpha=0.05):\n",
    "    \n",
    "    group_0 = df[df['Outcome'] == 0]\n",
    "    group_1 = df[df['Outcome'] == 1]\n",
    "    variables = df.columns[0:-1]\n",
    "    relevant = []\n",
    "    \n",
    "    for variable in variables:\n",
    "        _, p_value = st.ttest_ind(group_0[variable], group_1[variable], equal_var=False)\n",
    "        if p_value <= alpha:\n",
    "            relevant.append(variable)\n",
    "            \n",
    "    return relevant        "
   ]
  },
  {
   "cell_type": "code",
   "execution_count": null,
   "id": "3bf18e58",
   "metadata": {},
   "outputs": [],
   "source": [
    "significant_difference(data, 0.001)"
   ]
  },
  {
   "cell_type": "code",
   "execution_count": null,
   "id": "4c213737",
   "metadata": {},
   "outputs": [],
   "source": [
    "def discretize(df1):\n",
    "    \n",
    "    df = df1.copy()\n",
    "    \n",
    "    for column in df1.columns:\n",
    "        if column not in ['Overweight', 'Outcome']:\n",
    "            statistics = df1.loc[df1[column] > 0, column].describe()\n",
    "            q1 = statistics['25%']\n",
    "            q2 = statistics['50%']\n",
    "            q3 = statistics['75%']        \n",
    "            df.loc[df1[column] < q1, column] = 0\n",
    "            df.loc[(df1[column] >= q1) & (df1[column] < q2), column] = 1\n",
    "            df.loc[(df1[column] >= q2) & (df1[column] < q3), column] = 2\n",
    "            df.loc[df1[column] >= q3, column] = 3\n",
    "    \n",
    "    df = df.astype({'BMI': 'int32', 'DiabetesPedigreeFunction': 'int32'})\n",
    "    \n",
    "    return df  "
   ]
  },
  {
   "cell_type": "code",
   "execution_count": null,
   "id": "ae61d872",
   "metadata": {},
   "outputs": [],
   "source": [
    "def independence_test(df, alpha=0.05):\n",
    "    \n",
    "    df_discrete = discretize(df)\n",
    "    columns = df.columns[0:-1]\n",
    "    dependent = []\n",
    "    \n",
    "    for column in columns:\n",
    "        contingency_table = pd.crosstab(df_discrete['Outcome'], df_discrete[column])\n",
    "        _, p_value, _, _ = st.chi2_contingency(contingency_table)\n",
    "        if p_value <= alpha:\n",
    "            dependent.append(column)\n",
    "            \n",
    "    return dependent   "
   ]
  },
  {
   "cell_type": "code",
   "execution_count": null,
   "id": "59b13ad1",
   "metadata": {},
   "outputs": [],
   "source": [
    "independence_test(data, 0.01)"
   ]
  },
  {
   "cell_type": "code",
   "execution_count": null,
   "id": "52a41250",
   "metadata": {},
   "outputs": [],
   "source": [
    "methods = np.array([[58, 58, 48], \n",
    "                    [64, 69, 57], \n",
    "                    [55, 71, 59], \n",
    "                    [66, 64, 47], \n",
    "                    [67, 68, 49]])\n",
    "methods"
   ]
  },
  {
   "cell_type": "code",
   "execution_count": null,
   "id": "b6e2ae0b",
   "metadata": {
    "scrolled": true
   },
   "outputs": [],
   "source": [
    "f_statistic, p_value = st.f_oneway(methods[:,0], methods[:,1], methods[:,2])"
   ]
  },
  {
   "cell_type": "code",
   "execution_count": null,
   "id": "29b7b815",
   "metadata": {},
   "outputs": [],
   "source": [
    "f_statistic, p_value"
   ]
  }
 ],
 "metadata": {
  "kernelspec": {
   "display_name": "Python 3 (ipykernel)",
   "language": "python",
   "name": "python3"
  },
  "language_info": {
   "codemirror_mode": {
    "name": "ipython",
    "version": 3
   },
   "file_extension": ".py",
   "mimetype": "text/x-python",
   "name": "python",
   "nbconvert_exporter": "python",
   "pygments_lexer": "ipython3",
   "version": "3.11.4"
  }
 },
 "nbformat": 4,
 "nbformat_minor": 5
}
