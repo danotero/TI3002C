{
 "cells": [
  {
   "cell_type": "markdown",
   "id": "85b5ebc5",
   "metadata": {},
   "source": [
    "# Confidence Intervals\n",
    "\n",
    "A confidence interval is a statistical range or interval used to estimate the true value of a population parameter, such as a population mean or proportion, based on a sample of data. It provides a range of values within which the true parameter is likely to fall with a certain level of confidence.\n",
    "\n",
    "In general, this range of values is equal to a **point estimate** plus/minus a **margin of error**:\n",
    "\n",
    "$$\\text{point estimate}\\pm\\text{marginf of error}$$\n",
    "\n",
    "**Point Estimate:** The point estimate is a single value computed from the sample data that is used as an estimate of the population parameter. For example, if you are estimating the population mean, the sample mean $\\bar{x}$ is often used as the point estimate.\n",
    "\n",
    "**Margin of Error:** The margin of error is a measure of the uncertainty or variability associated with the point estimate. It quantifies how much the point estimate is likely to vary from the true population parameter. It is typically expressed as a positive value and is based on the variability in the sample data and the chosen **level of confidence**.\n",
    "\n",
    "**Level of Confidence:** The level of confidence represents the probability that the confidence interval contains the true population parameter. It is expressed as a percentage and is often set at common levels such as 90%, 95%, or 99%. For example, a 95% confidence interval means that if the same sampling and analysis process were repeated many times, about 95% of the intervals constructed would contain the true parameter.\n",
    "\n",
    "The formula for constructing a confidence interval depends on the type of parameter being estimated (mean, proportion, variance, etc.) and the underlying probability distribution of the data. Common methods for constructing confidence intervals include the use of t-distributions for means, normal-distributions for proportions, and chi-squared distributions for variances.\n",
    "\n",
    "Confidence intervals are widely used in inferential statistics to make statements about population parameters based on sample data. They provide a measure of the precision and reliability of an estimate, allowing researchers and analysts to communicate the uncertainty associated with their findings.\n",
    "\n",
    "As you expect, we are going to compute some confidence intervals using `Python`, so let us load some relevant libraries."
   ]
  },
  {
   "cell_type": "code",
   "execution_count": 1,
   "id": "3a475ffb",
   "metadata": {},
   "outputs": [],
   "source": [
    "import numpy as np\n",
    "import scipy.stats as st"
   ]
  },
  {
   "cell_type": "markdown",
   "id": "4fc5f310",
   "metadata": {},
   "source": [
    "## Confidence Interval of the Population Mean: Known Standard Deviation\n",
    "\n",
    "As you know, when the standard deviation of the population $\\sigma$ is known, we have that\n",
    "\n",
    "$$\\frac{\\bar{x}-\\mu}{\\sigma/\\sqrt{n}}\\sim N(0,1)$$,\n",
    "\n",
    "therefore we employ the normal distribution to obtain the confidence interval. The formula for this interval is given by\n",
    "\n",
    "$$\\bar{x}\\pm z_{\\alpha/2}\\frac{\\sigma}{\\sqrt{n}},$$\n",
    "\n",
    "where $z_{\\alpha/2}$ is a value such that\n",
    "\n",
    "$$P\\left(\\frac{\\bar{x}-\\mu}{\\sigma/\\sqrt{n}}\\geq z_{\\alpha/2}\\right)=\\frac{\\alpha}{2},$$\n",
    "\n",
    "and $n$ is the size of the sample. \n",
    "\n",
    "Let us assume that $\\bar{x}=45$, $\\sigma=5$ and $n=40$. A 95% confidence interval of the population mean can be computed with the following lines of code."
   ]
  },
  {
   "cell_type": "code",
   "execution_count": 3,
   "id": "f4545880",
   "metadata": {},
   "outputs": [
    {
     "data": {
      "text/plain": [
       "(23.450512419238596, 26.549487580761404)"
      ]
     },
     "execution_count": 3,
     "metadata": {},
     "output_type": "execute_result"
    }
   ],
   "source": [
    "sample_mean = 25\n",
    "sigma = 5\n",
    "n = 40\n",
    "\n",
    "st.norm.interval(0.95, loc=sample_mean, scale=sigma / np.sqrt(n))"
   ]
  },
  {
   "cell_type": "markdown",
   "id": "00ac0be6",
   "metadata": {},
   "source": [
    "## Confidence Interval of the Population Mean: Unknown Standard Deviation\n",
    "\n",
    "When the population standard deviation $\\sigma$ is unknown we use the Student's t-distribution and a sample standard deviation $s$ to construct the interval. This is commonly referred to as the confidence interval for the population mean when the standard deviation is unknown.\n",
    "\n",
    "The formula for the confidence interval is as follows:\n",
    "\n",
    "$$\\bar{x}\\pm t_{\\alpha/2,n-1}\\frac{s}{\\sqrt{n}},$$\n",
    "\n",
    "where $t_{\\alpha/2,n-1}$ is a value such that\n",
    "\n",
    "$$P\\left(\\frac{\\bar{x}-\\mu}{s/\\sqrt{n}}\\geq t_{\\alpha/2,n-1}\\right)=\\frac{\\alpha}{2},$$\n",
    "\n",
    "and $n$ is the size of the sample, $n-1$ is the number of degrees of freedom of the t-distribution, and $s$ is the sample standard deviation:\n",
    "\n",
    "$$s=\\sqrt{\\frac{1}{n-1}\\sum_{i=1}^n(x_i-\\bar{x})^2}.$$\n",
    "\n",
    "As expected, we can compute this type of confidence interval with the assistance of `Python`. In this case, given some `data`, we need some functions to compute the sample mean (`np.mean`) and the sample standard deviation (`st.tstd`)."
   ]
  },
  {
   "cell_type": "code",
   "execution_count": 4,
   "id": "d1c028dc",
   "metadata": {},
   "outputs": [
    {
     "data": {
      "text/plain": [
       "(7.103938575806959, 12.896061424193041)"
      ]
     },
     "execution_count": 4,
     "metadata": {},
     "output_type": "execute_result"
    }
   ],
   "source": [
    "data = [10, 8, 12, 15, 13, 11, 6, 5]\n",
    "n = len(data)\n",
    "\n",
    "st.t.interval(0.95, df=n-1, loc=np.mean(data), scale=st.tstd(data)/np.sqrt(n))"
   ]
  },
  {
   "cell_type": "markdown",
   "id": "808095bf",
   "metadata": {},
   "source": [
    "## Exercises\n",
    "\n",
    "Suppose you are conducting a study to estimate the average time (in minutes) it takes for a group of individuals to commute to work in a certain city. You collect a random sample of 30 commuters and record their commute times. The sample mean commute time is 25 minutes, and the sample standard deviation is 4 minutes. Calculate a 95% confidence interval for the true average commute time for all commuters in the city."
   ]
  },
  {
   "cell_type": "code",
   "execution_count": null,
   "id": "a821f3d5",
   "metadata": {},
   "outputs": [],
   "source": [
    "\"INSERT YOUR CODE HERE\""
   ]
  },
  {
   "cell_type": "markdown",
   "id": "318d75df",
   "metadata": {},
   "source": [
    "Suppose you are conducting a study to estimate the average height (in inches) of students at a university. You collect a random sample of 40 students and measure their heights. The sample mean height is 68 inches, and the sample standard deviation is 2.5 inches. Calculate a 99% confidence interval for the true average height of all students at the university."
   ]
  },
  {
   "cell_type": "code",
   "execution_count": null,
   "id": "d13a8eeb",
   "metadata": {},
   "outputs": [],
   "source": [
    "\"INSERT YOUR CODE HERE\""
   ]
  }
 ],
 "metadata": {
  "kernelspec": {
   "display_name": "Python 3 (ipykernel)",
   "language": "python",
   "name": "python3"
  },
  "language_info": {
   "codemirror_mode": {
    "name": "ipython",
    "version": 3
   },
   "file_extension": ".py",
   "mimetype": "text/x-python",
   "name": "python",
   "nbconvert_exporter": "python",
   "pygments_lexer": "ipython3",
   "version": "3.11.4"
  }
 },
 "nbformat": 4,
 "nbformat_minor": 5
}
