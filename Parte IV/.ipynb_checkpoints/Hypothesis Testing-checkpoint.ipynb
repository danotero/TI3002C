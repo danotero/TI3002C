{
 "cells": [
  {
   "cell_type": "markdown",
   "id": "42305e99",
   "metadata": {},
   "source": [
    "# Hypothesis Testing\n",
    "\n",
    "A hypothesis test, also known as a statistical hypothesis test or significance test, is a method used in statistics to make inferences about population parameters or to determine the validity of a hypothesis based on sample data. Hypothesis testing is a fundamental tool in the field of statistics and is commonly used in scientific research, quality control, business analysis, and many other areas.\n",
    "\n",
    "Here are the key components and steps involved in a typical hypothesis test:\n",
    "\n",
    "1. **Formulate Hypotheses:**\n",
    "   - **Null Hypothesis ($H_0$):** This is the default or initial assumption that there is no significant effect, relationship, or difference in the population. It represents the status quo.\n",
    "   - **Alternative Hypothesis ($H_a$ or $H_1$):** This is the statement that contradicts the null hypothesis. It represents the researcher's claim or the effect, relationship, or difference they want to test.\n",
    "\n",
    "2. **Collect Data:**\n",
    "   - Obtain a random sample from the population of interest.\n",
    "\n",
    "3. **Choose a Significance Level ($\\alpha$):**\n",
    "   - The significance level, often denoted as $\\alpha$, represents the probability of making a Type I error (rejecting a true null hypothesis). Common values for α are 0.05 (5%) and 0.01 (1%).\n",
    "\n",
    "4. **Perform a Statistical Test:**\n",
    "   - Choose an appropriate statistical test based on the data type (e.g., t-test, $\\chi$-squared test, ANOVA, etc.) and the specific hypothesis being tested.\n",
    "   - Calculate a test statistic that measures the evidence against the null hypothesis.\n",
    "\n",
    "5. **Calculate the p-value:**\n",
    "   - The p-value is a probability value that indicates the likelihood of observing the test statistic (or more extreme results) if the null hypothesis were true. A smaller p-value suggests stronger evidence against the null hypothesis.\n",
    "\n",
    "6. **Compare the p-value to $\\alpha$:**\n",
    "   - If the p-value is less than or equal to $\\alpha$, you reject the null hypothesis in favor of the alternative hypothesis. This suggests that there is enough evidence to support the claim made in the alternative hypothesis.\n",
    "   - If the p-value is greater than $\\alpha$, you fail to reject the null hypothesis. This means that there is not enough evidence to support the claim made in the alternative hypothesis.\n",
    "\n",
    "7. **Draw a Conclusion:**\n",
    "   - Based on the comparison in step 6, you draw a conclusion about the null hypothesis and, by extension, the research hypothesis or claim.\n",
    "   - If you reject the null hypothesis, you may conclude that there is evidence to support the alternative hypothesis.\n",
    "   - If you fail to reject the null hypothesis, you may conclude that there is insufficient evidence to support the alternative hypothesis.\n",
    "\n",
    "Hypothesis testing helps researchers and analysts make informed decisions and draw conclusions about the populations they are studying. It provides a structured and systematic way to assess the significance of findings based on sample data."
   ]
  },
  {
   "cell_type": "markdown",
   "id": "b23b0430",
   "metadata": {},
   "source": [
    "## One-tail Hypothesis Test\n",
    "\n",
    "Say we want to test if the population mean $\\mu$ is greater than a certain value $\\mu_0$ when the standard deviation of the population is unknown:\n",
    "\n",
    "$$H_0: \\mu\\leq\\mu_0$$\n",
    "$$H_a: \\mu>\\mu_0$$\n",
    "\n",
    "Here's a step-by-step guide on how to perform this one-tailed hypothesis test using SciPy. First, we need to import the required libraries."
   ]
  },
  {
   "cell_type": "code",
   "execution_count": null,
   "id": "65c820d0",
   "metadata": {},
   "outputs": [],
   "source": [
    "import scipy.stats as stats\n",
    "import numpy as np"
   ]
  },
  {
   "cell_type": "markdown",
   "id": "b305890c",
   "metadata": {},
   "source": [
    "Now we collect our data. It is convenient to store the data in a `NumPy` array or a `Pandas` dataframe."
   ]
  },
  {
   "cell_type": "code",
   "execution_count": null,
   "id": "2b8f2126",
   "metadata": {},
   "outputs": [],
   "source": [
    "data = np.array([28, 32, 33, 38, 41])"
   ]
  },
  {
   "cell_type": "markdown",
   "id": "a56977bf",
   "metadata": {},
   "source": [
    "Then we choose a significance level $\\alpha$ for the test. This value represents the probability of making a Type I error."
   ]
  },
  {
   "cell_type": "code",
   "execution_count": null,
   "id": "6369074b",
   "metadata": {},
   "outputs": [],
   "source": [
    "alpha = 0.05"
   ]
  },
  {
   "cell_type": "markdown",
   "id": "a83314cd",
   "metadata": {},
   "source": [
    "The next step is to select the appropriate statistical test based on your research question and data type. For a one-tailed test where you want to test if the mean is greater than a specific value $\\mu_0$ and the standard deviation is unknown, you can use a one-sample t-test with the `alternative` parameter set to \"greater\". Let us assume that $\\mu_0=35$:"
   ]
  },
  {
   "cell_type": "code",
   "execution_count": null,
   "id": "dee8507f",
   "metadata": {},
   "outputs": [],
   "source": [
    "mu_0 = 35\n",
    "t_stat, p_value = stats.ttest_1samp(data, popmean=mu_0, alternative='greater')"
   ]
  },
  {
   "cell_type": "markdown",
   "id": "ec8c27be",
   "metadata": {},
   "source": [
    "Now we are ready to examine the test statistic (`t_stat`) and the p-value (`p_value`) to evaluate the results."
   ]
  },
  {
   "cell_type": "code",
   "execution_count": null,
   "id": "8c967627",
   "metadata": {},
   "outputs": [],
   "source": [
    "if p_value <= alpha:\n",
    "    print(\"Reject the null hypothesis\")\n",
    "else:\n",
    "    print(\"Fail to reject the null hypothesis\")"
   ]
  },
  {
   "cell_type": "code",
   "execution_count": null,
   "id": "aa1ecc9c",
   "metadata": {},
   "outputs": [],
   "source": [
    "p_value"
   ]
  },
  {
   "cell_type": "markdown",
   "id": "16affb87",
   "metadata": {},
   "source": [
    "Finally, interpret the results based on your research question and the direction of your alternative hypothesis. In this case, if the p-value is less than $\\alpha$ and the alternative hypothesis is \"greater,\" you would conclude that there is evidence to support the alternative hypothesis, indicating that the mean is greater than the specified value.\n",
    "\n",
    "You can adapt this approach for other types of one-tailed tests, such as testing if a parameter is less than a specific value by setting the `alternative` parameter accordingly (e.g., `alternative='less'`)."
   ]
  },
  {
   "cell_type": "markdown",
   "id": "89477eaf",
   "metadata": {},
   "source": [
    "## Two-tail Hypothesis Test\n",
    "\n",
    "Say we want to test if the population mean $\\mu$ is not equal to a certain value $\\mu_0$ when the standard deviation of the population is unknown:\n",
    "\n",
    "$$H_0: \\mu=\\mu_0$$\n",
    "$$H_a: \\mu\\neq\\mu_0$$\n",
    "\n",
    "The steps we should follow are basically the same we carried out for the one-tail tes, the only difference is that we do not need to set the parameter `alternative` of the method `stats.ttest_1samp` since by default said parameter is set to `two-sided`. \n",
    "\n",
    "Let us employ the same data we had before and the same $\\mu_0$. Statistically speaking, is the population mean not going to be equal to $\\mu_0=35$? As you should know by now, we can answer this question with a two-tail hypothesis test. Here is the code. "
   ]
  },
  {
   "cell_type": "code",
   "execution_count": null,
   "id": "609325f4",
   "metadata": {},
   "outputs": [],
   "source": [
    "t_stat, p_value = stats.ttest_1samp(data, popmean=mu_0)\n",
    "\n",
    "if p_value <= alpha:\n",
    "    print(\"Reject the null hypothesis\")\n",
    "else:\n",
    "    print(\"Fail to reject the null hypothesis\")"
   ]
  },
  {
   "cell_type": "markdown",
   "id": "2e81b9cb",
   "metadata": {},
   "source": [
    "Then, from an statistical point of view, the data does not support the claim that the population mean is different from $\\mu_0$."
   ]
  },
  {
   "cell_type": "markdown",
   "id": "daf8b5ab",
   "metadata": {},
   "source": [
    "## Hypothesis Test for the Difference of Means\n",
    "\n",
    "To perform a hypothesis test for the difference of means with an unknown standard deviation using `SciPy` in `Python`, you typically use the t-test for independent samples. This test is suitable when you have two independent groups (samples) and you want to test whether there is a statistically significant difference between their means. In this case, your hypothesis test would be the following:\n",
    "\n",
    "$$H_0: \\mu_1-\\mu_2\\leq0$$\n",
    "$$H_a: \\mu_1-\\mu_2>0$$\n",
    "\n",
    "Suppose there is new software that helps systems analysts reduce the time required to design, develop and implement an information system. To evaluate the benefits of the new software, a sample of 24 systems analysts is taken. Each analyst is given information about a hypothetical information system. Twelve of them are asked to develop the information system using existing technology and the other 12 analysts are trained to use the new software and are asked to use it to develop the information system.\n",
    "\n",
    "The data of the analysts that employ the existing technology is stored in `group_old`. The data of the analysts that work with the new software is saved in `group_new`"
   ]
  },
  {
   "cell_type": "code",
   "execution_count": null,
   "id": "d4f2ca28",
   "metadata": {},
   "outputs": [],
   "source": [
    "group_old = np.array([300, 280, 344, 385, 372, 360, 288, 321, 376, 290, 301, 283])\n",
    "group_new = np.array([274, 220, 308, 336, 198, 300, 315, 258, 318, 310, 332, 263])"
   ]
  },
  {
   "cell_type": "markdown",
   "id": "ce0a4544",
   "metadata": {},
   "source": [
    "For this type of test, the appropriate method is the `ttest_ind` function from `SciPy`. The function will return the test statistic and the p-value. Let us pick a significance level equal to $\\alpha=0.05$ for this test."
   ]
  },
  {
   "cell_type": "code",
   "execution_count": null,
   "id": "8f0f7c51",
   "metadata": {},
   "outputs": [],
   "source": [
    "alpha = 0.05\n",
    "# Set equal_var to False for unequal variances\n",
    "t_stat, p_value = stats.ttest_ind(group_old, group_new, equal_var=False, alternative='greater')  "
   ]
  },
  {
   "cell_type": "markdown",
   "id": "9b58163d",
   "metadata": {},
   "source": [
    "At this point we are ready to draw a conclusion."
   ]
  },
  {
   "cell_type": "code",
   "execution_count": null,
   "id": "f94c3a95",
   "metadata": {},
   "outputs": [],
   "source": [
    "if p_value <= alpha:\n",
    "    print(\"Reject the null hypothesis\")\n",
    "else:\n",
    "    print(\"Fail to reject the null hypothesis\")"
   ]
  },
  {
   "cell_type": "markdown",
   "id": "db693e88",
   "metadata": {},
   "source": [
    "Therefore, the data supports the claim that the new software is helping the analysts work faster.\n",
    "\n",
    "Notice that in this example the `equal_var` and `alternative` parameters are set to `False` and `greater` because it assumes that the variances of the two groups are not equal and it is a one-tail test. You may adjust this parameter based on your specific data and assumptions."
   ]
  },
  {
   "cell_type": "markdown",
   "id": "9714d539",
   "metadata": {},
   "source": [
    "## Testing the Independence of Two Variables\n",
    "\n",
    "To test the independence of variables, you can use a $\\chi$-squared test of independence. This test is commonly used to determine if there is a significant association between two categorical variables. `SciPy` provides the `chi2_contingency` function for performing this test. \n",
    "\n",
    "To illustrate the test of independence, we will consider the test of independence performed by Alber's Brewery in Tucson, Arizona. Alber's produces and distributes three types of beer: light, light and dark. In analyzing the market segments for the three beers, the company's market research group asks whether consumer preferences for these types of beer differ between men and women. If preferences were independent of the consumer's biological sex, they would initiate an advertising campaign for all Alber's beers, but if preferences for the different types of beer depended on the consumer's biological sex, the company would adjust its promotions to the markets.\n",
    "\n",
    "The hypothese test that it is to be employed for this application is the following:\n",
    "\n",
    "$$H_0: \\text{Preference and biological sex are independent}$$\n",
    "$$H_a: \\text{Preference and biological sex are not independent}$$\n",
    "\n",
    "The first thing we need to do is to construct the **contingency table** for our data. A contingency table shows the frequencies of each combination of categories for the two variables. You can create a `NumPy` array or `Pandas` dataframe to represent the table. In this case, this information is stored in `contingency_table`. "
   ]
  },
  {
   "cell_type": "code",
   "execution_count": null,
   "id": "52b812bf",
   "metadata": {},
   "outputs": [],
   "source": [
    "contingency_table = np.array([[20, 40, 20],\n",
    "                              [30, 30, 10]])"
   ]
  },
  {
   "cell_type": "markdown",
   "id": "004f032d",
   "metadata": {},
   "source": [
    "Let us set the significance level of the test equal to $\\alpha=0.05$. To perform the $\\chi$-squared test of independence on the contingency table we use the `chi2_contingency` function."
   ]
  },
  {
   "cell_type": "code",
   "execution_count": null,
   "id": "f17935a3",
   "metadata": {},
   "outputs": [],
   "source": [
    "alpha = 0.05\n",
    "\n",
    "chi2_stat, p_value, dof, expected = stats.chi2_contingency(contingency_table)"
   ]
  },
  {
   "cell_type": "markdown",
   "id": "1c8f4950",
   "metadata": {},
   "source": [
    "Now we examine the results of the test to determine whether or not the null hypothesis is rejected."
   ]
  },
  {
   "cell_type": "code",
   "execution_count": null,
   "id": "f96943f3",
   "metadata": {
    "scrolled": true
   },
   "outputs": [],
   "source": [
    "if p_value <= alpha:\n",
    "    print(\"Reject the null hypothesis (There is evidence of association)\")\n",
    "else:\n",
    "    print(\"Fail to reject the null hypothesis (No evidence of association)\")"
   ]
  },
  {
   "cell_type": "markdown",
   "id": "a0e37b1a",
   "metadata": {},
   "source": [
    "We conclude that the preference of beers and the biological sex are not independent, so Alber's Brewery will have to adjust its promotions to the markets.\n",
    "\n",
    "Notice that this approach allows you to test the independence of two categorical variables using `SciPy's` $\\chi$-squared test of independence."
   ]
  },
  {
   "cell_type": "markdown",
   "id": "4afaee9f",
   "metadata": {},
   "source": [
    "## ANOVA\n",
    "\n",
    "You can perform an Analysis of Variance (ANOVA) test in Python using the SciPy library. ANOVA helps determine whether there are statistically significant differences between the means of two or more groups. The hypothesis test for ANOVA with $k$ groups is the following:\n",
    "\n",
    "$$H_0: \\mu_1=\\mu_2=\\cdots=\\mu_k$$\n",
    "$$H_a: \\text{Not all population means are equal}$$\n",
    "\n",
    "First we gather the data and organize it in a way that allows us to compare the means of multiple groups. You can create NumPy arrays or use Pandas DataFrames to represent your data."
   ]
  },
  {
   "cell_type": "code",
   "execution_count": null,
   "id": "840dd604",
   "metadata": {},
   "outputs": [],
   "source": [
    "# Example data (replace with your own data)\n",
    "group1 = np.array([28, 32, 33, 38, 41])\n",
    "group2 = np.array([25, 30, 31, 36, 39])\n",
    "group3 = np.array([22, 26, 27, 32, 35])"
   ]
  },
  {
   "cell_type": "markdown",
   "id": "6d8c9b88",
   "metadata": {},
   "source": [
    "Let us set the significance level of the test equal to $\\alpha=0.05$. Use the `f_oneway` function from `SciPy` to perform the ANOVA test. Provide your data as arguments to the function."
   ]
  },
  {
   "cell_type": "code",
   "execution_count": null,
   "id": "55a1747c",
   "metadata": {},
   "outputs": [],
   "source": [
    "alpha = 0.05\n",
    "f_statistic, p_value = stats.f_oneway(group1, group2, group3)"
   ]
  },
  {
   "cell_type": "code",
   "execution_count": null,
   "id": "61028009",
   "metadata": {},
   "outputs": [],
   "source": [
    "f_statistic, p_value"
   ]
  },
  {
   "cell_type": "markdown",
   "id": "baa3a9a6",
   "metadata": {},
   "source": [
    "Finally, we examine the F-statistic (`f_statistic`) and the p-value (`p_value`) to evaluate the results."
   ]
  },
  {
   "cell_type": "code",
   "execution_count": null,
   "id": "281cf8ad",
   "metadata": {},
   "outputs": [],
   "source": [
    "if p_value < alpha:\n",
    "    print(\"Reject the null hypothesis (There are significant differences between groups)\")\n",
    "else:\n",
    "    print(\"Fail to reject the null hypothesis (No significant differences between groups)\")"
   ]
  }
 ],
 "metadata": {
  "kernelspec": {
   "display_name": "Python 3 (ipykernel)",
   "language": "python",
   "name": "python3"
  },
  "language_info": {
   "codemirror_mode": {
    "name": "ipython",
    "version": 3
   },
   "file_extension": ".py",
   "mimetype": "text/x-python",
   "name": "python",
   "nbconvert_exporter": "python",
   "pygments_lexer": "ipython3",
   "version": "3.11.4"
  }
 },
 "nbformat": 4,
 "nbformat_minor": 5
}
