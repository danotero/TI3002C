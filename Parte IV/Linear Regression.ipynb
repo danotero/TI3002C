{
 "cells": [
  {
   "cell_type": "markdown",
   "id": "41744a79",
   "metadata": {},
   "source": [
    "# Linear Regression\n",
    "\n",
    "**Linear regression** is a very popular model that is easy to implement, easy to interpret, and can be fitted even when there is no linear relationship between the predictors, or independent variables, and the dependent variable. Usually, this method comes in two flavors: **simple linear regression** and **multiple linear regression**.\n",
    "\n",
    "Before we go any further, we need to load the libraries that we will be using."
   ]
  },
  {
   "cell_type": "code",
   "execution_count": 1,
   "id": "4df6302a",
   "metadata": {},
   "outputs": [],
   "source": [
    "import pandas                  as pd\n",
    "import numpy                   as np\n",
    "import matplotlib.pyplot       as plt\n",
    "import seaborn                 as sns\n",
    "import statsmodels.formula.api as smf\n",
    "import statsmodels.api         as sm"
   ]
  },
  {
   "cell_type": "markdown",
   "id": "664445e2",
   "metadata": {},
   "source": [
    "## Simple Linear Regression\n",
    "\n",
    "Let us assume that we have two variables, one of them dependent, which we call $y$, and another independent, $x$. Furthermore, we suspect that there exists a linear relation between these two variables. If that is the case, the simple linear regression model is a good alternative to explain the interaction of variables $x$ and $y$:\n",
    "\n",
    "$$y=\\beta_0+\\beta_1x+\\epsilon,$$\n",
    "\n",
    "where $\\beta_0$ and $\\beta_1$ are knows as the **parameters of the model**, and $\\epsilon$ is a random variable that is called the **error term**. This term is included to account for the variability of $y$ that can not be explained by the linear model. Given the latter, we assume that $\\epsilon\\sim N(0,\\sigma^2)$.\n",
    "\n",
    "To illustrate how we can use the simple linear regression model, assume that data is collected from a sample of ten Armand's Pizza Parlors restaurants located near college campuses. For ther $i$th observation in the sample, $x_i$ is the size of the student population, i.e., the number of students, in thousands, and $y_i$ are the quarterly sales in thousands of dollars.\n",
    "\n",
    "<img src=\"datos.png\" alt=\"Drawing\" style=\"width: 500px;\"/>\n",
    "\n",
    "We will store the data collected by Armand's Pizza in a dataframe."
   ]
  },
  {
   "cell_type": "code",
   "execution_count": 2,
   "id": "ef02a095",
   "metadata": {},
   "outputs": [
    {
     "data": {
      "text/html": [
       "<div>\n",
       "<style scoped>\n",
       "    .dataframe tbody tr th:only-of-type {\n",
       "        vertical-align: middle;\n",
       "    }\n",
       "\n",
       "    .dataframe tbody tr th {\n",
       "        vertical-align: top;\n",
       "    }\n",
       "\n",
       "    .dataframe thead th {\n",
       "        text-align: right;\n",
       "    }\n",
       "</style>\n",
       "<table border=\"1\" class=\"dataframe\">\n",
       "  <thead>\n",
       "    <tr style=\"text-align: right;\">\n",
       "      <th></th>\n",
       "      <th>x</th>\n",
       "      <th>y</th>\n",
       "    </tr>\n",
       "  </thead>\n",
       "  <tbody>\n",
       "    <tr>\n",
       "      <th>0</th>\n",
       "      <td>2</td>\n",
       "      <td>58</td>\n",
       "    </tr>\n",
       "    <tr>\n",
       "      <th>1</th>\n",
       "      <td>6</td>\n",
       "      <td>105</td>\n",
       "    </tr>\n",
       "    <tr>\n",
       "      <th>2</th>\n",
       "      <td>8</td>\n",
       "      <td>88</td>\n",
       "    </tr>\n",
       "    <tr>\n",
       "      <th>3</th>\n",
       "      <td>8</td>\n",
       "      <td>118</td>\n",
       "    </tr>\n",
       "    <tr>\n",
       "      <th>4</th>\n",
       "      <td>12</td>\n",
       "      <td>117</td>\n",
       "    </tr>\n",
       "    <tr>\n",
       "      <th>5</th>\n",
       "      <td>16</td>\n",
       "      <td>137</td>\n",
       "    </tr>\n",
       "    <tr>\n",
       "      <th>6</th>\n",
       "      <td>20</td>\n",
       "      <td>157</td>\n",
       "    </tr>\n",
       "    <tr>\n",
       "      <th>7</th>\n",
       "      <td>20</td>\n",
       "      <td>169</td>\n",
       "    </tr>\n",
       "    <tr>\n",
       "      <th>8</th>\n",
       "      <td>22</td>\n",
       "      <td>149</td>\n",
       "    </tr>\n",
       "    <tr>\n",
       "      <th>9</th>\n",
       "      <td>26</td>\n",
       "      <td>202</td>\n",
       "    </tr>\n",
       "  </tbody>\n",
       "</table>\n",
       "</div>"
      ],
      "text/plain": [
       "    x    y\n",
       "0   2   58\n",
       "1   6  105\n",
       "2   8   88\n",
       "3   8  118\n",
       "4  12  117\n",
       "5  16  137\n",
       "6  20  157\n",
       "7  20  169\n",
       "8  22  149\n",
       "9  26  202"
      ]
     },
     "execution_count": 2,
     "metadata": {},
     "output_type": "execute_result"
    }
   ],
   "source": [
    "datos_pizza = {'x': [2, 6, 8, 8, 12, 16, 20, 20, 22, 26], 'y': [58, 105, 88, 118, 117, 137, 157, 169, 149, 202]}\n",
    "datos_pizza = pd.DataFrame.from_dict(datos_pizza)\n",
    "datos_pizza  "
   ]
  },
  {
   "cell_type": "markdown",
   "id": "93a6be0a",
   "metadata": {},
   "source": [
    "If we create a scatterplot of the data, we will see that there is a strong linear relationship between the dependent variable $y$ and the independent variable $x$. We will employ the `seaborn` library to do this."
   ]
  },
  {
   "cell_type": "code",
   "execution_count": 3,
   "id": "4aae8943",
   "metadata": {},
   "outputs": [
    {
     "data": {
      "text/plain": [
       "<Axes: xlabel='x', ylabel='y'>"
      ]
     },
     "execution_count": 3,
     "metadata": {},
     "output_type": "execute_result"
    },
    {
     "data": {
      "image/png": "[encoded data removed]",
      "text/plain": [
       "<Figure size 640x480 with 1 Axes>"
      ]
     },
     "metadata": {},
     "output_type": "display_data"
    }
   ],
   "source": [
    "sns.scatterplot(x='x', y='y', data=datos_pizza)"
   ]
  },
  {
   "cell_type": "markdown",
   "id": "50f8198a",
   "metadata": {},
   "source": [
    "Given the latter plot, it makes sense to perform a linear regression on this data. To do this we will use the `ols` function from the `statsmodels.formula.api` of the `statsmodels` library."
   ]
  },
  {
   "cell_type": "code",
   "execution_count": 4,
   "id": "db6f88d5",
   "metadata": {
    "scrolled": true
   },
   "outputs": [
    {
     "name": "stderr",
     "output_type": "stream",
     "text": [
      "/Library/Frameworks/Python.framework/Versions/3.11/lib/python3.11/site-packages/scipy/stats/_stats_py.py:1806: UserWarning: kurtosistest only valid for n>=20 ... continuing anyway, n=10\n",
      "  warnings.warn(\"kurtosistest only valid for n>=20 ... continuing \"\n"
     ]
    },
    {
     "data": {
      "text/html": [
       "<table class=\"simpletable\">\n",
       "<caption>OLS Regression Results</caption>\n",
       "<tr>\n",
       "  <th>Dep. Variable:</th>            <td>y</td>        <th>  R-squared:         </th> <td>   0.903</td>\n",
       "</tr>\n",
       "<tr>\n",
       "  <th>Model:</th>                   <td>OLS</td>       <th>  Adj. R-squared:    </th> <td>   0.891</td>\n",
       "</tr>\n",
       "<tr>\n",
       "  <th>Method:</th>             <td>Least Squares</td>  <th>  F-statistic:       </th> <td>   74.25</td>\n",
       "</tr>\n",
       "<tr>\n",
       "  <th>Date:</th>             <td>Fri, 20 Oct 2023</td> <th>  Prob (F-statistic):</th> <td>2.55e-05</td>\n",
       "</tr>\n",
       "<tr>\n",
       "  <th>Time:</th>                 <td>15:38:14</td>     <th>  Log-Likelihood:    </th> <td> -39.342</td>\n",
       "</tr>\n",
       "<tr>\n",
       "  <th>No. Observations:</th>      <td>    10</td>      <th>  AIC:               </th> <td>   82.68</td>\n",
       "</tr>\n",
       "<tr>\n",
       "  <th>Df Residuals:</th>          <td>     8</td>      <th>  BIC:               </th> <td>   83.29</td>\n",
       "</tr>\n",
       "<tr>\n",
       "  <th>Df Model:</th>              <td>     1</td>      <th>                     </th>     <td> </td>   \n",
       "</tr>\n",
       "<tr>\n",
       "  <th>Covariance Type:</th>      <td>nonrobust</td>    <th>                     </th>     <td> </td>   \n",
       "</tr>\n",
       "</table>\n",
       "<table class=\"simpletable\">\n",
       "<tr>\n",
       "      <td></td>         <th>coef</th>     <th>std err</th>      <th>t</th>      <th>P>|t|</th>  <th>[0.005</th>    <th>0.995]</th>  \n",
       "</tr>\n",
       "<tr>\n",
       "  <th>Intercept</th> <td>   60.0000</td> <td>    9.226</td> <td>    6.503</td> <td> 0.000</td> <td>   29.043</td> <td>   90.957</td>\n",
       "</tr>\n",
       "<tr>\n",
       "  <th>x</th>         <td>    5.0000</td> <td>    0.580</td> <td>    8.617</td> <td> 0.000</td> <td>    3.053</td> <td>    6.947</td>\n",
       "</tr>\n",
       "</table>\n",
       "<table class=\"simpletable\">\n",
       "<tr>\n",
       "  <th>Omnibus:</th>       <td> 0.928</td> <th>  Durbin-Watson:     </th> <td>   3.224</td>\n",
       "</tr>\n",
       "<tr>\n",
       "  <th>Prob(Omnibus):</th> <td> 0.629</td> <th>  Jarque-Bera (JB):  </th> <td>   0.616</td>\n",
       "</tr>\n",
       "<tr>\n",
       "  <th>Skew:</th>          <td>-0.060</td> <th>  Prob(JB):          </th> <td>   0.735</td>\n",
       "</tr>\n",
       "<tr>\n",
       "  <th>Kurtosis:</th>      <td> 1.790</td> <th>  Cond. No.          </th> <td>    33.6</td>\n",
       "</tr>\n",
       "</table><br/><br/>Notes:<br/>[1] Standard Errors assume that the covariance matrix of the errors is correctly specified."
      ],
      "text/latex": [
       "\\begin{center}\n",
       "\\begin{tabular}{lclc}\n",
       "\\toprule\n",
       "\\textbf{Dep. Variable:}    &        y         & \\textbf{  R-squared:         } &     0.903   \\\\\n",
       "\\textbf{Model:}            &       OLS        & \\textbf{  Adj. R-squared:    } &     0.891   \\\\\n",
       "\\textbf{Method:}           &  Least Squares   & \\textbf{  F-statistic:       } &     74.25   \\\\\n",
       "\\textbf{Date:}             & Fri, 20 Oct 2023 & \\textbf{  Prob (F-statistic):} &  2.55e-05   \\\\\n",
       "\\textbf{Time:}             &     15:38:14     & \\textbf{  Log-Likelihood:    } &   -39.342   \\\\\n",
       "\\textbf{No. Observations:} &          10      & \\textbf{  AIC:               } &     82.68   \\\\\n",
       "\\textbf{Df Residuals:}     &           8      & \\textbf{  BIC:               } &     83.29   \\\\\n",
       "\\textbf{Df Model:}         &           1      & \\textbf{                     } &             \\\\\n",
       "\\textbf{Covariance Type:}  &    nonrobust     & \\textbf{                     } &             \\\\\n",
       "\\bottomrule\n",
       "\\end{tabular}\n",
       "\\begin{tabular}{lcccccc}\n",
       "                   & \\textbf{coef} & \\textbf{std err} & \\textbf{t} & \\textbf{P$> |$t$|$} & \\textbf{[0.005} & \\textbf{0.995]}  \\\\\n",
       "\\midrule\n",
       "\\textbf{Intercept} &      60.0000  &        9.226     &     6.503  &         0.000        &       29.043    &       90.957     \\\\\n",
       "\\textbf{x}         &       5.0000  &        0.580     &     8.617  &         0.000        &        3.053    &        6.947     \\\\\n",
       "\\bottomrule\n",
       "\\end{tabular}\n",
       "\\begin{tabular}{lclc}\n",
       "\\textbf{Omnibus:}       &  0.928 & \\textbf{  Durbin-Watson:     } &    3.224  \\\\\n",
       "\\textbf{Prob(Omnibus):} &  0.629 & \\textbf{  Jarque-Bera (JB):  } &    0.616  \\\\\n",
       "\\textbf{Skew:}          & -0.060 & \\textbf{  Prob(JB):          } &    0.735  \\\\\n",
       "\\textbf{Kurtosis:}      &  1.790 & \\textbf{  Cond. No.          } &     33.6  \\\\\n",
       "\\bottomrule\n",
       "\\end{tabular}\n",
       "%\\caption{OLS Regression Results}\n",
       "\\end{center}\n",
       "\n",
       "Notes: \\newline\n",
       " [1] Standard Errors assume that the covariance matrix of the errors is correctly specified."
      ],
      "text/plain": [
       "<class 'statsmodels.iolib.summary.Summary'>\n",
       "\"\"\"\n",
       "                            OLS Regression Results                            \n",
       "==============================================================================\n",
       "Dep. Variable:                      y   R-squared:                       0.903\n",
       "Model:                            OLS   Adj. R-squared:                  0.891\n",
       "Method:                 Least Squares   F-statistic:                     74.25\n",
       "Date:                Fri, 20 Oct 2023   Prob (F-statistic):           2.55e-05\n",
       "Time:                        15:38:14   Log-Likelihood:                -39.342\n",
       "No. Observations:                  10   AIC:                             82.68\n",
       "Df Residuals:                       8   BIC:                             83.29\n",
       "Df Model:                           1                                         \n",
       "Covariance Type:            nonrobust                                         \n",
       "==============================================================================\n",
       "                 coef    std err          t      P>|t|      [0.005      0.995]\n",
       "------------------------------------------------------------------------------\n",
       "Intercept     60.0000      9.226      6.503      0.000      29.043      90.957\n",
       "x              5.0000      0.580      8.617      0.000       3.053       6.947\n",
       "==============================================================================\n",
       "Omnibus:                        0.928   Durbin-Watson:                   3.224\n",
       "Prob(Omnibus):                  0.629   Jarque-Bera (JB):                0.616\n",
       "Skew:                          -0.060   Prob(JB):                        0.735\n",
       "Kurtosis:                       1.790   Cond. No.                         33.6\n",
       "==============================================================================\n",
       "\n",
       "Notes:\n",
       "[1] Standard Errors assume that the covariance matrix of the errors is correctly specified.\n",
       "\"\"\""
      ]
     },
     "execution_count": 4,
     "metadata": {},
     "output_type": "execute_result"
    }
   ],
   "source": [
    "modelo_lineal_pizza = smf.ols(formula='y ~ x', data=datos_pizza).fit()\n",
    "modelo_lineal_pizza.summary(alpha=0.01)"
   ]
  },
  {
   "cell_type": "markdown",
   "id": "1407d033",
   "metadata": {},
   "source": [
    "As you can see, the linear regression summary provides a lot of information. We can see that both the coefficient of determination and its adjusted version are calculated. Also, the ANOVA test is performed on the parameters of the linear model. Furthermore, we get the confidence intervals for each parameter of the model and the values of their two-tailed hypothesis tests. The details of the calculation of several of these quantities can be found in the presentation."
   ]
  },
  {
   "cell_type": "markdown",
   "id": "167d3860",
   "metadata": {},
   "source": [
    "### Residual Analysis\n",
    "\n",
    "Residual analysis in the context of linear regression refers to the process of examining and analyzing the differences, or residuals, between the observed values of the dependent variable and the values predicted by the linear regression model. It is a critical step in assessing the quality of a linear regression model and the validity of its assumptions. Residual analysis helps identify potential problems such as heteroscedasticity, outliers, and violations of linearity or normality assumptions.\n",
    "\n",
    "When we perform a linear regression, the values of the residuals are computed and become part of our model. We will store them in a new column of the `datos_pizza` dataframe."
   ]
  },
  {
   "cell_type": "code",
   "execution_count": 5,
   "id": "7d2852b5",
   "metadata": {},
   "outputs": [
    {
     "data": {
      "text/html": [
       "<div>\n",
       "<style scoped>\n",
       "    .dataframe tbody tr th:only-of-type {\n",
       "        vertical-align: middle;\n",
       "    }\n",
       "\n",
       "    .dataframe tbody tr th {\n",
       "        vertical-align: top;\n",
       "    }\n",
       "\n",
       "    .dataframe thead th {\n",
       "        text-align: right;\n",
       "    }\n",
       "</style>\n",
       "<table border=\"1\" class=\"dataframe\">\n",
       "  <thead>\n",
       "    <tr style=\"text-align: right;\">\n",
       "      <th></th>\n",
       "      <th>x</th>\n",
       "      <th>y</th>\n",
       "      <th>residuos</th>\n",
       "    </tr>\n",
       "  </thead>\n",
       "  <tbody>\n",
       "    <tr>\n",
       "      <th>0</th>\n",
       "      <td>2</td>\n",
       "      <td>58</td>\n",
       "      <td>-12.0</td>\n",
       "    </tr>\n",
       "    <tr>\n",
       "      <th>1</th>\n",
       "      <td>6</td>\n",
       "      <td>105</td>\n",
       "      <td>15.0</td>\n",
       "    </tr>\n",
       "    <tr>\n",
       "      <th>2</th>\n",
       "      <td>8</td>\n",
       "      <td>88</td>\n",
       "      <td>-12.0</td>\n",
       "    </tr>\n",
       "    <tr>\n",
       "      <th>3</th>\n",
       "      <td>8</td>\n",
       "      <td>118</td>\n",
       "      <td>18.0</td>\n",
       "    </tr>\n",
       "    <tr>\n",
       "      <th>4</th>\n",
       "      <td>12</td>\n",
       "      <td>117</td>\n",
       "      <td>-3.0</td>\n",
       "    </tr>\n",
       "    <tr>\n",
       "      <th>5</th>\n",
       "      <td>16</td>\n",
       "      <td>137</td>\n",
       "      <td>-3.0</td>\n",
       "    </tr>\n",
       "    <tr>\n",
       "      <th>6</th>\n",
       "      <td>20</td>\n",
       "      <td>157</td>\n",
       "      <td>-3.0</td>\n",
       "    </tr>\n",
       "    <tr>\n",
       "      <th>7</th>\n",
       "      <td>20</td>\n",
       "      <td>169</td>\n",
       "      <td>9.0</td>\n",
       "    </tr>\n",
       "    <tr>\n",
       "      <th>8</th>\n",
       "      <td>22</td>\n",
       "      <td>149</td>\n",
       "      <td>-21.0</td>\n",
       "    </tr>\n",
       "    <tr>\n",
       "      <th>9</th>\n",
       "      <td>26</td>\n",
       "      <td>202</td>\n",
       "      <td>12.0</td>\n",
       "    </tr>\n",
       "  </tbody>\n",
       "</table>\n",
       "</div>"
      ],
      "text/plain": [
       "    x    y  residuos\n",
       "0   2   58     -12.0\n",
       "1   6  105      15.0\n",
       "2   8   88     -12.0\n",
       "3   8  118      18.0\n",
       "4  12  117      -3.0\n",
       "5  16  137      -3.0\n",
       "6  20  157      -3.0\n",
       "7  20  169       9.0\n",
       "8  22  149     -21.0\n",
       "9  26  202      12.0"
      ]
     },
     "execution_count": 5,
     "metadata": {},
     "output_type": "execute_result"
    }
   ],
   "source": [
    "datos_pizza['residuos'] = modelo_lineal_pizza.resid.values\n",
    "datos_pizza"
   ]
  },
  {
   "cell_type": "markdown",
   "id": "cbb9cfce",
   "metadata": {},
   "source": [
    "One way to assess the quality of our linear regression is with a **residual plot**. These plots help identify potential non-linearity or heteroscedasticity by examining the relationship between the residuals and each predictor variable."
   ]
  },
  {
   "cell_type": "code",
   "execution_count": 6,
   "id": "f53fa56c",
   "metadata": {
    "scrolled": true
   },
   "outputs": [
    {
     "data": {
      "text/plain": [
       "<Axes: xlabel='x', ylabel='residuos'>"
      ]
     },
     "execution_count": 6,
     "metadata": {},
     "output_type": "execute_result"
    },
    {
     "data": {
      "image/png": "[encoded data removed]",
      "text/plain": [
       "<Figure size 640x480 with 1 Axes>"
      ]
     },
     "metadata": {},
     "output_type": "display_data"
    }
   ],
   "source": [
    "sns.scatterplot(x='x', y='residuos', data=datos_pizza)"
   ]
  },
  {
   "cell_type": "markdown",
   "id": "e261f814",
   "metadata": {},
   "source": [
    "Another helpful method for analyzing the residuals is the **Quantile-Quantile (QQ) plot**, also known as **QQ-plots**. These plots are a graphical tool used in statistics to assess whether a dataset follows a specific theoretical distribution, such as the normal distribution. It compares the quantiles of the observed data with the quantiles of the expected theoretical distribution, helping to visually determine if the data fits the assumed distribution.\n",
    "\n",
    "Each point on the QQ-plot represents a pair of quantiles: one from the observed data and the other from the theoretical distribution. The points are arranged such that if the data perfectly follows the assumed distribution, they would lie along a 45-degree diagonal line ($y=x$).\n",
    "\n",
    "This plot can be visualized using the `qqplot` function from the `statsmodels` library."
   ]
  },
  {
   "cell_type": "code",
   "execution_count": 7,
   "id": "c182f672",
   "metadata": {},
   "outputs": [
    {
     "data": {
      "image/png": "[encoded data removed]",
      "text/plain": [
       "<Figure size 640x480 with 1 Axes>"
      ]
     },
     "metadata": {},
     "output_type": "display_data"
    }
   ],
   "source": [
    "sm.qqplot(modelo_lineal_pizza.resid, line=\"s\");"
   ]
  },
  {
   "cell_type": "markdown",
   "id": "1a794d92",
   "metadata": {},
   "source": [
    "## Multiple Linear Regression\n",
    "\n",
    "**Multiple linear regression** is a statistical technique used to model the relationship between a dependent variable and multiple independent variables (also known as predictors or characteristics). It is an extension of simple linear regression, which involves one independent variable and one dependent variable. In multiple linear regression, you have a single dependent variable, but you consider two or more independent variables to better explain and predict the variation in the dependent variable.\n",
    "\n",
    "To illustrate how multiple regression works, we will work with the following data compiled by Showtime Movie Theater. The owners are interested in estimating weekly revenues based on advertising expenditures. Once again, this data will be stored in a dataframe."
   ]
  },
  {
   "cell_type": "code",
   "execution_count": 8,
   "id": "dd0a5289",
   "metadata": {},
   "outputs": [
    {
     "data": {
      "text/html": [
       "<div>\n",
       "<style scoped>\n",
       "    .dataframe tbody tr th:only-of-type {\n",
       "        vertical-align: middle;\n",
       "    }\n",
       "\n",
       "    .dataframe tbody tr th {\n",
       "        vertical-align: top;\n",
       "    }\n",
       "\n",
       "    .dataframe thead th {\n",
       "        text-align: right;\n",
       "    }\n",
       "</style>\n",
       "<table border=\"1\" class=\"dataframe\">\n",
       "  <thead>\n",
       "    <tr style=\"text-align: right;\">\n",
       "      <th></th>\n",
       "      <th>publicidad_tv</th>\n",
       "      <th>publicidad_per</th>\n",
       "      <th>ingreso</th>\n",
       "    </tr>\n",
       "  </thead>\n",
       "  <tbody>\n",
       "    <tr>\n",
       "      <th>0</th>\n",
       "      <td>5.0</td>\n",
       "      <td>1.5</td>\n",
       "      <td>96</td>\n",
       "    </tr>\n",
       "    <tr>\n",
       "      <th>1</th>\n",
       "      <td>2.0</td>\n",
       "      <td>2.0</td>\n",
       "      <td>90</td>\n",
       "    </tr>\n",
       "    <tr>\n",
       "      <th>2</th>\n",
       "      <td>4.0</td>\n",
       "      <td>1.5</td>\n",
       "      <td>95</td>\n",
       "    </tr>\n",
       "    <tr>\n",
       "      <th>3</th>\n",
       "      <td>2.5</td>\n",
       "      <td>2.5</td>\n",
       "      <td>92</td>\n",
       "    </tr>\n",
       "    <tr>\n",
       "      <th>4</th>\n",
       "      <td>3.0</td>\n",
       "      <td>3.3</td>\n",
       "      <td>95</td>\n",
       "    </tr>\n",
       "    <tr>\n",
       "      <th>5</th>\n",
       "      <td>3.5</td>\n",
       "      <td>2.3</td>\n",
       "      <td>94</td>\n",
       "    </tr>\n",
       "    <tr>\n",
       "      <th>6</th>\n",
       "      <td>2.5</td>\n",
       "      <td>4.2</td>\n",
       "      <td>94</td>\n",
       "    </tr>\n",
       "    <tr>\n",
       "      <th>7</th>\n",
       "      <td>3.0</td>\n",
       "      <td>2.5</td>\n",
       "      <td>94</td>\n",
       "    </tr>\n",
       "  </tbody>\n",
       "</table>\n",
       "</div>"
      ],
      "text/plain": [
       "   publicidad_tv  publicidad_per  ingreso\n",
       "0            5.0             1.5       96\n",
       "1            2.0             2.0       90\n",
       "2            4.0             1.5       95\n",
       "3            2.5             2.5       92\n",
       "4            3.0             3.3       95\n",
       "5            3.5             2.3       94\n",
       "6            2.5             4.2       94\n",
       "7            3.0             2.5       94"
      ]
     },
     "execution_count": 8,
     "metadata": {},
     "output_type": "execute_result"
    }
   ],
   "source": [
    "datos_movie = {'publicidad_tv' :[5, 2, 4, 2.5, 3, 3.5, 2.5, 3], 'publicidad_per' : [1.5, 2, 1.5, 2.5, 3.3, 2.3, 4.2, 2.5], 'ingreso' : [96, 90, 95, 92, 95, 94, 94, 94]}\n",
    "datos_movie = pd.DataFrame.from_dict(datos_movie)\n",
    "datos_movie  "
   ]
  },
  {
   "cell_type": "markdown",
   "id": "c27f2f7d",
   "metadata": {},
   "source": [
    "To perform a linear regression on this data, we can use the `ols` function from the `statsmodels.formula.api` of the `statsmodels` library. Note that we need to change the `formula` parameter so that the function takes into account that we are working with two independent variables and one dependent variable."
   ]
  },
  {
   "cell_type": "code",
   "execution_count": 9,
   "id": "cbcad821",
   "metadata": {},
   "outputs": [
    {
     "name": "stderr",
     "output_type": "stream",
     "text": [
      "/Library/Frameworks/Python.framework/Versions/3.11/lib/python3.11/site-packages/scipy/stats/_stats_py.py:1806: UserWarning: kurtosistest only valid for n>=20 ... continuing anyway, n=8\n",
      "  warnings.warn(\"kurtosistest only valid for n>=20 ... continuing \"\n"
     ]
    },
    {
     "data": {
      "text/html": [
       "<table class=\"simpletable\">\n",
       "<caption>OLS Regression Results</caption>\n",
       "<tr>\n",
       "  <th>Dep. Variable:</th>         <td>ingreso</td>     <th>  R-squared:         </th> <td>   0.919</td>\n",
       "</tr>\n",
       "<tr>\n",
       "  <th>Model:</th>                   <td>OLS</td>       <th>  Adj. R-squared:    </th> <td>   0.887</td>\n",
       "</tr>\n",
       "<tr>\n",
       "  <th>Method:</th>             <td>Least Squares</td>  <th>  F-statistic:       </th> <td>   28.38</td>\n",
       "</tr>\n",
       "<tr>\n",
       "  <th>Date:</th>             <td>Fri, 20 Oct 2023</td> <th>  Prob (F-statistic):</th>  <td>0.00187</td>\n",
       "</tr>\n",
       "<tr>\n",
       "  <th>Time:</th>                 <td>15:38:14</td>     <th>  Log-Likelihood:    </th> <td> -5.9335</td>\n",
       "</tr>\n",
       "<tr>\n",
       "  <th>No. Observations:</th>      <td>     8</td>      <th>  AIC:               </th> <td>   17.87</td>\n",
       "</tr>\n",
       "<tr>\n",
       "  <th>Df Residuals:</th>          <td>     5</td>      <th>  BIC:               </th> <td>   18.11</td>\n",
       "</tr>\n",
       "<tr>\n",
       "  <th>Df Model:</th>              <td>     2</td>      <th>                     </th>     <td> </td>   \n",
       "</tr>\n",
       "<tr>\n",
       "  <th>Covariance Type:</th>      <td>nonrobust</td>    <th>                     </th>     <td> </td>   \n",
       "</tr>\n",
       "</table>\n",
       "<table class=\"simpletable\">\n",
       "<tr>\n",
       "         <td></td>           <th>coef</th>     <th>std err</th>      <th>t</th>      <th>P>|t|</th>  <th>[0.025</th>    <th>0.975]</th>  \n",
       "</tr>\n",
       "<tr>\n",
       "  <th>Intercept</th>      <td>   83.2301</td> <td>    1.574</td> <td>   52.882</td> <td> 0.000</td> <td>   79.184</td> <td>   87.276</td>\n",
       "</tr>\n",
       "<tr>\n",
       "  <th>publicidad_tv</th>  <td>    2.2902</td> <td>    0.304</td> <td>    7.532</td> <td> 0.001</td> <td>    1.509</td> <td>    3.072</td>\n",
       "</tr>\n",
       "<tr>\n",
       "  <th>publicidad_per</th> <td>    1.3010</td> <td>    0.321</td> <td>    4.057</td> <td> 0.010</td> <td>    0.477</td> <td>    2.125</td>\n",
       "</tr>\n",
       "</table>\n",
       "<table class=\"simpletable\">\n",
       "<tr>\n",
       "  <th>Omnibus:</th>       <td> 3.537</td> <th>  Durbin-Watson:     </th> <td>   2.174</td>\n",
       "</tr>\n",
       "<tr>\n",
       "  <th>Prob(Omnibus):</th> <td> 0.171</td> <th>  Jarque-Bera (JB):  </th> <td>   1.057</td>\n",
       "</tr>\n",
       "<tr>\n",
       "  <th>Skew:</th>          <td> 0.342</td> <th>  Prob(JB):          </th> <td>   0.589</td>\n",
       "</tr>\n",
       "<tr>\n",
       "  <th>Kurtosis:</th>      <td> 1.356</td> <th>  Cond. No.          </th> <td>    29.9</td>\n",
       "</tr>\n",
       "</table><br/><br/>Notes:<br/>[1] Standard Errors assume that the covariance matrix of the errors is correctly specified."
      ],
      "text/latex": [
       "\\begin{center}\n",
       "\\begin{tabular}{lclc}\n",
       "\\toprule\n",
       "\\textbf{Dep. Variable:}    &     ingreso      & \\textbf{  R-squared:         } &     0.919   \\\\\n",
       "\\textbf{Model:}            &       OLS        & \\textbf{  Adj. R-squared:    } &     0.887   \\\\\n",
       "\\textbf{Method:}           &  Least Squares   & \\textbf{  F-statistic:       } &     28.38   \\\\\n",
       "\\textbf{Date:}             & Fri, 20 Oct 2023 & \\textbf{  Prob (F-statistic):} &  0.00187    \\\\\n",
       "\\textbf{Time:}             &     15:38:14     & \\textbf{  Log-Likelihood:    } &   -5.9335   \\\\\n",
       "\\textbf{No. Observations:} &           8      & \\textbf{  AIC:               } &     17.87   \\\\\n",
       "\\textbf{Df Residuals:}     &           5      & \\textbf{  BIC:               } &     18.11   \\\\\n",
       "\\textbf{Df Model:}         &           2      & \\textbf{                     } &             \\\\\n",
       "\\textbf{Covariance Type:}  &    nonrobust     & \\textbf{                     } &             \\\\\n",
       "\\bottomrule\n",
       "\\end{tabular}\n",
       "\\begin{tabular}{lcccccc}\n",
       "                         & \\textbf{coef} & \\textbf{std err} & \\textbf{t} & \\textbf{P$> |$t$|$} & \\textbf{[0.025} & \\textbf{0.975]}  \\\\\n",
       "\\midrule\n",
       "\\textbf{Intercept}       &      83.2301  &        1.574     &    52.882  &         0.000        &       79.184    &       87.276     \\\\\n",
       "\\textbf{publicidad\\_tv}  &       2.2902  &        0.304     &     7.532  &         0.001        &        1.509    &        3.072     \\\\\n",
       "\\textbf{publicidad\\_per} &       1.3010  &        0.321     &     4.057  &         0.010        &        0.477    &        2.125     \\\\\n",
       "\\bottomrule\n",
       "\\end{tabular}\n",
       "\\begin{tabular}{lclc}\n",
       "\\textbf{Omnibus:}       &  3.537 & \\textbf{  Durbin-Watson:     } &    2.174  \\\\\n",
       "\\textbf{Prob(Omnibus):} &  0.171 & \\textbf{  Jarque-Bera (JB):  } &    1.057  \\\\\n",
       "\\textbf{Skew:}          &  0.342 & \\textbf{  Prob(JB):          } &    0.589  \\\\\n",
       "\\textbf{Kurtosis:}      &  1.356 & \\textbf{  Cond. No.          } &     29.9  \\\\\n",
       "\\bottomrule\n",
       "\\end{tabular}\n",
       "%\\caption{OLS Regression Results}\n",
       "\\end{center}\n",
       "\n",
       "Notes: \\newline\n",
       " [1] Standard Errors assume that the covariance matrix of the errors is correctly specified."
      ],
      "text/plain": [
       "<class 'statsmodels.iolib.summary.Summary'>\n",
       "\"\"\"\n",
       "                            OLS Regression Results                            \n",
       "==============================================================================\n",
       "Dep. Variable:                ingreso   R-squared:                       0.919\n",
       "Model:                            OLS   Adj. R-squared:                  0.887\n",
       "Method:                 Least Squares   F-statistic:                     28.38\n",
       "Date:                Fri, 20 Oct 2023   Prob (F-statistic):            0.00187\n",
       "Time:                        15:38:14   Log-Likelihood:                -5.9335\n",
       "No. Observations:                   8   AIC:                             17.87\n",
       "Df Residuals:                       5   BIC:                             18.11\n",
       "Df Model:                           2                                         \n",
       "Covariance Type:            nonrobust                                         \n",
       "==================================================================================\n",
       "                     coef    std err          t      P>|t|      [0.025      0.975]\n",
       "----------------------------------------------------------------------------------\n",
       "Intercept         83.2301      1.574     52.882      0.000      79.184      87.276\n",
       "publicidad_tv      2.2902      0.304      7.532      0.001       1.509       3.072\n",
       "publicidad_per     1.3010      0.321      4.057      0.010       0.477       2.125\n",
       "==============================================================================\n",
       "Omnibus:                        3.537   Durbin-Watson:                   2.174\n",
       "Prob(Omnibus):                  0.171   Jarque-Bera (JB):                1.057\n",
       "Skew:                           0.342   Prob(JB):                        0.589\n",
       "Kurtosis:                       1.356   Cond. No.                         29.9\n",
       "==============================================================================\n",
       "\n",
       "Notes:\n",
       "[1] Standard Errors assume that the covariance matrix of the errors is correctly specified.\n",
       "\"\"\""
      ]
     },
     "execution_count": 9,
     "metadata": {},
     "output_type": "execute_result"
    }
   ],
   "source": [
    "modelo_lineal_movie = smf.ols(formula='ingreso ~ publicidad_tv + publicidad_per', data=datos_movie).fit()\n",
    "modelo_lineal_movie.summary()"
   ]
  },
  {
   "cell_type": "markdown",
   "id": "2a9083c0",
   "metadata": {},
   "source": [
    "As expected, the linear regression summary provides a lot of information that is useful in assessing how good our model is. The details of the calculation of several of these quantities can be found in the presentation."
   ]
  },
  {
   "cell_type": "markdown",
   "id": "351ed8ec",
   "metadata": {
    "scrolled": true
   },
   "source": [
    "### Residual Analysis\n",
    "\n",
    "The ideas of residual analysis that we used for simple linear regression can be used to analyze the behavior of the residuals of the multiple regression model. One of the methods we used was the residual plot. In this case, we plot the values of the residuals against the values of our estimates, so we need to obtain these quantities. Fortunately, this information is contained in the object created by `Python` when we ran our linear regression. We will create two more columns for the dataframe `datos_movie` and store the residuals and the predictions."
   ]
  },
  {
   "cell_type": "code",
   "execution_count": 10,
   "id": "9c98c489",
   "metadata": {},
   "outputs": [
    {
     "data": {
      "text/html": [
       "<div>\n",
       "<style scoped>\n",
       "    .dataframe tbody tr th:only-of-type {\n",
       "        vertical-align: middle;\n",
       "    }\n",
       "\n",
       "    .dataframe tbody tr th {\n",
       "        vertical-align: top;\n",
       "    }\n",
       "\n",
       "    .dataframe thead th {\n",
       "        text-align: right;\n",
       "    }\n",
       "</style>\n",
       "<table border=\"1\" class=\"dataframe\">\n",
       "  <thead>\n",
       "    <tr style=\"text-align: right;\">\n",
       "      <th></th>\n",
       "      <th>publicidad_tv</th>\n",
       "      <th>publicidad_per</th>\n",
       "      <th>ingreso</th>\n",
       "      <th>estimado</th>\n",
       "      <th>residuos</th>\n",
       "    </tr>\n",
       "  </thead>\n",
       "  <tbody>\n",
       "    <tr>\n",
       "      <th>0</th>\n",
       "      <td>5.0</td>\n",
       "      <td>1.5</td>\n",
       "      <td>96</td>\n",
       "      <td>96.632493</td>\n",
       "      <td>-0.632493</td>\n",
       "    </tr>\n",
       "    <tr>\n",
       "      <th>1</th>\n",
       "      <td>2.0</td>\n",
       "      <td>2.0</td>\n",
       "      <td>90</td>\n",
       "      <td>90.412437</td>\n",
       "      <td>-0.412437</td>\n",
       "    </tr>\n",
       "    <tr>\n",
       "      <th>2</th>\n",
       "      <td>4.0</td>\n",
       "      <td>1.5</td>\n",
       "      <td>95</td>\n",
       "      <td>94.342310</td>\n",
       "      <td>0.657690</td>\n",
       "    </tr>\n",
       "    <tr>\n",
       "      <th>3</th>\n",
       "      <td>2.5</td>\n",
       "      <td>2.5</td>\n",
       "      <td>92</td>\n",
       "      <td>92.208023</td>\n",
       "      <td>-0.208023</td>\n",
       "    </tr>\n",
       "    <tr>\n",
       "      <th>4</th>\n",
       "      <td>3.0</td>\n",
       "      <td>3.3</td>\n",
       "      <td>95</td>\n",
       "      <td>94.393907</td>\n",
       "      <td>0.606093</td>\n",
       "    </tr>\n",
       "    <tr>\n",
       "      <th>5</th>\n",
       "      <td>3.5</td>\n",
       "      <td>2.3</td>\n",
       "      <td>94</td>\n",
       "      <td>94.238009</td>\n",
       "      <td>-0.238009</td>\n",
       "    </tr>\n",
       "    <tr>\n",
       "      <th>6</th>\n",
       "      <td>2.5</td>\n",
       "      <td>4.2</td>\n",
       "      <td>94</td>\n",
       "      <td>94.419705</td>\n",
       "      <td>-0.419705</td>\n",
       "    </tr>\n",
       "    <tr>\n",
       "      <th>7</th>\n",
       "      <td>3.0</td>\n",
       "      <td>2.5</td>\n",
       "      <td>94</td>\n",
       "      <td>93.353115</td>\n",
       "      <td>0.646885</td>\n",
       "    </tr>\n",
       "  </tbody>\n",
       "</table>\n",
       "</div>"
      ],
      "text/plain": [
       "   publicidad_tv  publicidad_per  ingreso   estimado  residuos\n",
       "0            5.0             1.5       96  96.632493 -0.632493\n",
       "1            2.0             2.0       90  90.412437 -0.412437\n",
       "2            4.0             1.5       95  94.342310  0.657690\n",
       "3            2.5             2.5       92  92.208023 -0.208023\n",
       "4            3.0             3.3       95  94.393907  0.606093\n",
       "5            3.5             2.3       94  94.238009 -0.238009\n",
       "6            2.5             4.2       94  94.419705 -0.419705\n",
       "7            3.0             2.5       94  93.353115  0.646885"
      ]
     },
     "execution_count": 10,
     "metadata": {},
     "output_type": "execute_result"
    }
   ],
   "source": [
    "datos_movie['estimado'] = modelo_lineal_movie.predict()\n",
    "datos_movie['residuos'] = modelo_lineal_movie.resid.values\n",
    "datos_movie"
   ]
  },
  {
   "cell_type": "markdown",
   "id": "658aec4d",
   "metadata": {},
   "source": [
    "Again, we plot the residuals to assess the quality of the linear regression. Since this is a multiple regression, we need to plot the residuals against the values of the linear model estimates."
   ]
  },
  {
   "cell_type": "code",
   "execution_count": 11,
   "id": "4acb2da6",
   "metadata": {},
   "outputs": [
    {
     "data": {
      "text/plain": [
       "<Axes: xlabel='estimado', ylabel='residuos'>"
      ]
     },
     "execution_count": 11,
     "metadata": {},
     "output_type": "execute_result"
    },
    {
     "data": {
      "image/png": "[encoded data removed]",
      "text/plain": [
       "<Figure size 640x480 with 1 Axes>"
      ]
     },
     "metadata": {},
     "output_type": "display_data"
    }
   ],
   "source": [
    "sns.scatterplot(x='estimado', y='residuos', data=datos_movie)"
   ]
  },
  {
   "cell_type": "markdown",
   "id": "a81bb483",
   "metadata": {},
   "source": [
    "As expected, a QQ plot can be visualized. Note that regardless of the type of linear regression, if the residuals follow a normal distribution, the blue points of the QQ plot should be fairly close to a line with a slope equal to one."
   ]
  },
  {
   "cell_type": "code",
   "execution_count": 12,
   "id": "2437e0d6",
   "metadata": {},
   "outputs": [
    {
     "data": {
      "image/png": "[encoded data removed]",
      "text/plain": [
       "<Figure size 640x480 with 1 Axes>"
      ]
     },
     "metadata": {},
     "output_type": "display_data"
    }
   ],
   "source": [
    "sm.qqplot(modelo_lineal_movie.resid, line=\"s\");"
   ]
  },
  {
   "cell_type": "markdown",
   "id": "aa165ca1",
   "metadata": {},
   "source": [
    "### Collinearity\n",
    "\n",
    "**Collinearity**, in the context of multiple linear regression, refers to a situation in which two or more independent variables in a regression model are highly correlated with each other. In other words, collinearity occurs when there is a strong linear relationship between two or more predictors. This can cause problems in regression analysis because it can make it difficult to determine the individual contributions of these correlated variables to the dependent variable.\n",
    "\n",
    "One way to determine whether there is a strong correlation between the independent variables is to use a **correlation matrix**: the ijth component of a correlation matrix is equal to the correlation of the variables $x_i$ and $x_j$. The `seaborn` library comes with the `heatmap` method, which can be quite useful for visualizing these matrices."
   ]
  },
  {
   "cell_type": "code",
   "execution_count": 13,
   "id": "e7434aca",
   "metadata": {},
   "outputs": [
    {
     "data": {
      "text/plain": [
       "Text(0.5, 1.0, 'Correlaciones entre las variables independientes')"
      ]
     },
     "execution_count": 13,
     "metadata": {},
     "output_type": "execute_result"
    },
    {
     "data": {
      "image/png": "[encoded data removed]",
      "text/plain": [
       "<Figure size 700x700 with 2 Axes>"
      ]
     },
     "metadata": {},
     "output_type": "display_data"
    }
   ],
   "source": [
    "plt.figure(figsize=(7,7))\n",
    "sns.heatmap(datos_movie[['publicidad_tv', 'publicidad_per']].corr(), cmap=\"RdYlBu\", \n",
    "    annot=True, square=True,\n",
    "    vmin=-0.8, vmax=0.8, fmt=\"+.1f\")\n",
    "plt.title(\"Correlaciones entre las variables independientes\")"
   ]
  },
  {
   "cell_type": "markdown",
   "id": "1263edfd",
   "metadata": {},
   "source": [
    "We can see that there is a strong correlation between the variables `publicidad_per` and `publicidad_tv`, so we may have to consider the idea of either omitting one of these two variables or combining them into a single explanatory variable."
   ]
  }
 ],
 "metadata": {
  "hide_input": false,
  "kernelspec": {
   "display_name": "Python 3 (ipykernel)",
   "language": "python",
   "name": "python3"
  },
  "language_info": {
   "codemirror_mode": {
    "name": "ipython",
    "version": 3
   },
   "file_extension": ".py",
   "mimetype": "text/x-python",
   "name": "python",
   "nbconvert_exporter": "python",
   "pygments_lexer": "ipython3",
   "version": "3.11.4"
  }
 },
 "nbformat": 4,
 "nbformat_minor": 5
}
